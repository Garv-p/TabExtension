{
 "cells": [
  {
   "cell_type": "code",
   "execution_count": 13,
   "metadata": {},
   "outputs": [
    {
     "name": "stdout",
     "output_type": "stream",
     "text": [
      "Unexpected exception formatting exception. Falling back to standard exception\n"
     ]
    },
    {
     "name": "stderr",
     "output_type": "stream",
     "text": [
      "Traceback (most recent call last):\n",
      "  File \"/Users/garvpatel/anaconda3/lib/python3.10/site-packages/IPython/core/interactiveshell.py\", line 3553, in run_code\n",
      "    exec(code_obj, self.user_global_ns, self.user_ns)\n",
      "  File \"/var/folders/hs/0pffd7jn7fv7v2q16h2syd7w0000gn/T/ipykernel_23898/398588364.py\", line 3, in <module>\n",
      "    import sklearn.cluster as cluster\n",
      "  File \"/Users/garvpatel/anaconda3/lib/python3.10/site-packages/sklearn/__init__.py\", line 87, in <module>\n",
      "    from .base import clone\n",
      "  File \"/Users/garvpatel/anaconda3/lib/python3.10/site-packages/sklearn/base.py\", line 19, in <module>\n",
      "    from .utils import _IS_32BIT\n",
      "  File \"/Users/garvpatel/anaconda3/lib/python3.10/site-packages/sklearn/utils/__init__.py\", line 16, in <module>\n",
      "    from scipy.sparse import issparse\n",
      "  File \"/Users/garvpatel/anaconda3/lib/python3.10/site-packages/scipy/sparse/__init__.py\", line 308, in <module>\n",
      "    from . import csgraph\n",
      "  File \"/Users/garvpatel/anaconda3/lib/python3.10/site-packages/scipy/sparse/csgraph/__init__.py\", line 185, in <module>\n",
      "    from ._laplacian import laplacian\n",
      "  File \"/Users/garvpatel/anaconda3/lib/python3.10/site-packages/scipy/sparse/csgraph/_laplacian.py\", line 7, in <module>\n",
      "    from scipy.sparse.linalg import LinearOperator\n",
      "  File \"/Users/garvpatel/anaconda3/lib/python3.10/site-packages/scipy/sparse/linalg/__init__.py\", line 129, in <module>\n",
      "    from ._isolve import *\n",
      "  File \"/Users/garvpatel/anaconda3/lib/python3.10/site-packages/scipy/sparse/linalg/_isolve/__init__.py\", line 4, in <module>\n",
      "    from .iterative import *\n",
      "  File \"/Users/garvpatel/anaconda3/lib/python3.10/site-packages/scipy/sparse/linalg/_isolve/iterative.py\", line 5, in <module>\n",
      "    from scipy.linalg import get_lapack_funcs\n",
      "  File \"/Users/garvpatel/anaconda3/lib/python3.10/site-packages/scipy/linalg/__init__.py\", line 203, in <module>\n",
      "    from ._misc import *\n",
      "  File \"/Users/garvpatel/anaconda3/lib/python3.10/site-packages/scipy/linalg/_misc.py\", line 3, in <module>\n",
      "    from .blas import get_blas_funcs\n",
      "  File \"/Users/garvpatel/anaconda3/lib/python3.10/site-packages/scipy/linalg/blas.py\", line 213, in <module>\n",
      "    from scipy.linalg import _fblas\n",
      "ImportError: dlopen(/Users/garvpatel/anaconda3/lib/python3.10/site-packages/scipy/linalg/_fblas.cpython-310-darwin.so, 0x0002): Library not loaded: @rpath/liblapack.3.dylib\n",
      "  Referenced from: <1B3127B8-80FD-3970-B852-5BFBB7351305> /Users/garvpatel/anaconda3/lib/python3.10/site-packages/scipy/linalg/_fblas.cpython-310-darwin.so\n",
      "  Reason: tried: '/Users/garvpatel/anaconda3/lib/python3.10/site-packages/scipy/linalg/../../../../liblapack.3.dylib' (no such file), '/Users/garvpatel/anaconda3/lib/python3.10/site-packages/scipy/linalg/../../../../liblapack.3.dylib' (no such file), '/Users/garvpatel/anaconda3/bin/../lib/liblapack.3.dylib' (no such file), '/Users/garvpatel/anaconda3/bin/../lib/liblapack.3.dylib' (no such file), '/usr/local/lib/liblapack.3.dylib' (no such file), '/usr/lib/liblapack.3.dylib' (no such file, not in dyld cache)\n",
      "\n",
      "During handling of the above exception, another exception occurred:\n",
      "\n",
      "Traceback (most recent call last):\n",
      "  File \"/Users/garvpatel/anaconda3/lib/python3.10/site-packages/IPython/core/interactiveshell.py\", line 2144, in showtraceback\n",
      "    stb = self.InteractiveTB.structured_traceback(\n",
      "  File \"/Users/garvpatel/anaconda3/lib/python3.10/site-packages/IPython/core/ultratb.py\", line 1435, in structured_traceback\n",
      "    return FormattedTB.structured_traceback(\n",
      "  File \"/Users/garvpatel/anaconda3/lib/python3.10/site-packages/IPython/core/ultratb.py\", line 1326, in structured_traceback\n",
      "    return VerboseTB.structured_traceback(\n",
      "  File \"/Users/garvpatel/anaconda3/lib/python3.10/site-packages/IPython/core/ultratb.py\", line 1173, in structured_traceback\n",
      "    formatted_exception = self.format_exception_as_a_whole(etype, evalue, etb, number_of_lines_of_context,\n",
      "  File \"/Users/garvpatel/anaconda3/lib/python3.10/site-packages/IPython/core/ultratb.py\", line 1088, in format_exception_as_a_whole\n",
      "    frames.append(self.format_record(record))\n",
      "  File \"/Users/garvpatel/anaconda3/lib/python3.10/site-packages/IPython/core/ultratb.py\", line 970, in format_record\n",
      "    frame_info.lines, Colors, self.has_colors, lvals\n",
      "  File \"/Users/garvpatel/anaconda3/lib/python3.10/site-packages/IPython/core/ultratb.py\", line 792, in lines\n",
      "    return self._sd.lines\n",
      "  File \"/Users/garvpatel/anaconda3/lib/python3.10/site-packages/stack_data/utils.py\", line 145, in cached_property_wrapper\n",
      "    value = obj.__dict__[self.func.__name__] = self.func(obj)\n",
      "  File \"/Users/garvpatel/anaconda3/lib/python3.10/site-packages/stack_data/core.py\", line 698, in lines\n",
      "    pieces = self.included_pieces\n",
      "  File \"/Users/garvpatel/anaconda3/lib/python3.10/site-packages/stack_data/utils.py\", line 145, in cached_property_wrapper\n",
      "    value = obj.__dict__[self.func.__name__] = self.func(obj)\n",
      "  File \"/Users/garvpatel/anaconda3/lib/python3.10/site-packages/stack_data/core.py\", line 649, in included_pieces\n",
      "    pos = scope_pieces.index(self.executing_piece)\n",
      "  File \"/Users/garvpatel/anaconda3/lib/python3.10/site-packages/stack_data/utils.py\", line 145, in cached_property_wrapper\n",
      "    value = obj.__dict__[self.func.__name__] = self.func(obj)\n",
      "  File \"/Users/garvpatel/anaconda3/lib/python3.10/site-packages/stack_data/core.py\", line 628, in executing_piece\n",
      "    return only(\n",
      "  File \"/Users/garvpatel/anaconda3/lib/python3.10/site-packages/executing/executing.py\", line 164, in only\n",
      "    raise NotOneValueFound('Expected one value, found 0')\n",
      "executing.executing.NotOneValueFound: Expected one value, found 0\n"
     ]
    }
   ],
   "source": [
    "import numpy as np\n",
    "import pandas as pd\n",
    "import sklearn.cluster as cluster\n",
    "\n",
    "import umap\n",
    "import numba\n",
    "\n",
    "import sklearn.metrics\n",
    "import vectorizers\n",
    "import vectorizers.transformers\n",
    "import sklearn.feature_extraction\n",
    "import scipy.sparse\n",
    "\n",
    "import sentence_transformers\n",
    "\n",
    "from sklearn.utils.extmath import randomized_svd\n",
    "from sklearn.preprocessing import normalize"
   ]
  },
  {
   "cell_type": "code",
   "execution_count": null,
   "metadata": {},
   "outputs": [],
   "source": []
  }
 ],
 "metadata": {
  "kernelspec": {
   "display_name": "Python 3.12.1 64-bit",
   "language": "python",
   "name": "python3"
  },
  "language_info": {
   "codemirror_mode": {
    "name": "ipython",
    "version": 3
   },
   "file_extension": ".py",
   "mimetype": "text/x-python",
   "name": "python",
   "nbconvert_exporter": "python",
   "pygments_lexer": "ipython3",
   "version": "3.12.1"
  },
  "orig_nbformat": 4,
  "vscode": {
   "interpreter": {
    "hash": "bdec2f261ad5d236aea1ce5a7c81a58266dc97be97ef29e76e60107890463708"
   }
  }
 },
 "nbformat": 4,
 "nbformat_minor": 2
}
